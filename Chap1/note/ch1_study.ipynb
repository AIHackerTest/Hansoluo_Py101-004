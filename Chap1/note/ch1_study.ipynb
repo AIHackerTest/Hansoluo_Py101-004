{
 "cells": [
  {
   "cell_type": "markdown",
   "metadata": {},
   "source": [
    "# 天气查询程序探索"
   ]
  },
  {
   "cell_type": "markdown",
   "metadata": {},
   "source": [
    "## 按照功能写函数模块"
   ]
  },
  {
   "cell_type": "code",
   "execution_count": 8,
   "metadata": {
    "collapsed": true
   },
   "outputs": [],
   "source": [
    "def get_data():\n",
    "    \"\"\"\n",
    "    获取本地的天气信息文档\n",
    "    \"\"\"\n",
    "    \n",
    "    pass\n",
    "\n",
    "def inquiry_weather():\n",
    "    \"\"\"\n",
    "    用户输入城市名，可以返回天气数据\n",
    "    \"\"\"\n",
    "\n",
    "    pass\n",
    "\n",
    "def request_help():\n",
    "    \"\"\"\n",
    "    用户输入指令可以获取榜之文档和退出程序的交互\n",
    "    \"\"\"\n",
    "\n",
    "    print_history()\n",
    "    pass\n",
    "\n",
    "def print_history():\n",
    "    \"\"\"\n",
    "    退出程序前打印所有的查询历史\n",
    "    \"\"\"\n",
    "\n",
    "    pass\n",
    "\n",
    "get_data()\n",
    "inquiry_weather()\n",
    "request_help()"
   ]
  },
  {
   "cell_type": "markdown",
   "metadata": {},
   "source": [
    "## 读取本地的天气文件"
   ]
  },
  {
   "cell_type": "markdown",
   "metadata": {},
   "source": [
    "#### 首先想到的思路是利用LPTHW里提到的ex15的方式去读写文件，即用`argv`传入文件名的方式，但是由于不在同一文件夹下报错说找不到文件，于是加上路径去运行,结果报错如下，语法错误，描述是unicode编码错误"
   ]
  },
  {
   "cell_type": "code",
   "execution_count": 1,
   "metadata": {},
   "outputs": [
    {
     "ename": "SyntaxError",
     "evalue": "(unicode error) 'unicodeescape' codec can't decode bytes in position 2-3: truncated \\UXXXXXXXX escape (<ipython-input-1-1c5fbdf9d50c>, line 5)",
     "output_type": "error",
     "traceback": [
      "\u001b[1;36m  File \u001b[1;32m\"<ipython-input-1-1c5fbdf9d50c>\"\u001b[1;36m, line \u001b[1;32m5\u001b[0m\n\u001b[1;33m    w = open('C:\\Users\\Administrator\\Py101-004\\Chap1\\\\resource\\weather_info.txt')\u001b[0m\n\u001b[1;37m            ^\u001b[0m\n\u001b[1;31mSyntaxError\u001b[0m\u001b[1;31m:\u001b[0m (unicode error) 'unicodeescape' codec can't decode bytes in position 2-3: truncated \\UXXXXXXXX escape\n"
     ]
    }
   ],
   "source": [
    "def get_data():\n",
    "    \"\"\"\n",
    "    获取本地的天气信息文档\n",
    "    \"\"\"\n",
    "    w = open('C:\\Users\\Administrator\\Py101-004\\Chap1\\\\resource\\weather_info.txt')\n",
    "    print (w.read())\n",
    "\n",
    "get_data()"
   ]
  },
  {
   "cell_type": "markdown",
   "metadata": {},
   "source": [
    "#### 谷歌后发现是写路径的问题，\\在python中起转义字符的作用，解决方案是在路径前加r表示原始字符，或者用双斜杠符号"
   ]
  },
  {
   "cell_type": "code",
   "execution_count": 3,
   "metadata": {
    "scrolled": true
   },
   "outputs": [
    {
     "ename": "UnicodeDecodeError",
     "evalue": "'gbk' codec can't decode byte 0xb4 in position 9: illegal multibyte sequence",
     "output_type": "error",
     "traceback": [
      "\u001b[1;31m---------------------------------------------------------------------------\u001b[0m",
      "\u001b[1;31mUnicodeDecodeError\u001b[0m                        Traceback (most recent call last)",
      "\u001b[1;32m<ipython-input-3-8e59c3cc9fd2>\u001b[0m in \u001b[0;36m<module>\u001b[1;34m()\u001b[0m\n\u001b[0;32m      6\u001b[0m     \u001b[0mprint\u001b[0m \u001b[1;33m(\u001b[0m\u001b[0mw\u001b[0m\u001b[1;33m.\u001b[0m\u001b[0mread\u001b[0m\u001b[1;33m(\u001b[0m\u001b[1;33m)\u001b[0m\u001b[1;33m)\u001b[0m\u001b[1;33m\u001b[0m\u001b[0m\n\u001b[0;32m      7\u001b[0m \u001b[1;33m\u001b[0m\u001b[0m\n\u001b[1;32m----> 8\u001b[1;33m \u001b[0mget_data\u001b[0m\u001b[1;33m(\u001b[0m\u001b[1;33m)\u001b[0m\u001b[1;33m\u001b[0m\u001b[0m\n\u001b[0m",
      "\u001b[1;32m<ipython-input-3-8e59c3cc9fd2>\u001b[0m in \u001b[0;36mget_data\u001b[1;34m()\u001b[0m\n\u001b[0;32m      4\u001b[0m     \"\"\"\n\u001b[0;32m      5\u001b[0m     \u001b[0mw\u001b[0m \u001b[1;33m=\u001b[0m \u001b[0mopen\u001b[0m\u001b[1;33m(\u001b[0m\u001b[1;34mr'C:\\Users\\Administrator\\Py101-004\\Chap1\\\\resource\\weather_info.txt'\u001b[0m\u001b[1;33m)\u001b[0m\u001b[1;33m\u001b[0m\u001b[0m\n\u001b[1;32m----> 6\u001b[1;33m     \u001b[0mprint\u001b[0m \u001b[1;33m(\u001b[0m\u001b[0mw\u001b[0m\u001b[1;33m.\u001b[0m\u001b[0mread\u001b[0m\u001b[1;33m(\u001b[0m\u001b[1;33m)\u001b[0m\u001b[1;33m)\u001b[0m\u001b[1;33m\u001b[0m\u001b[0m\n\u001b[0m\u001b[0;32m      7\u001b[0m \u001b[1;33m\u001b[0m\u001b[0m\n\u001b[0;32m      8\u001b[0m \u001b[0mget_data\u001b[0m\u001b[1;33m(\u001b[0m\u001b[1;33m)\u001b[0m\u001b[1;33m\u001b[0m\u001b[0m\n",
      "\u001b[1;31mUnicodeDecodeError\u001b[0m: 'gbk' codec can't decode byte 0xb4 in position 9: illegal multibyte sequence"
     ]
    }
   ],
   "source": [
    "def get_data():\n",
    "    \"\"\"\n",
    "    获取本地的天气信息文档\n",
    "    \"\"\"\n",
    "    w = open(r'C:\\Users\\Administrator\\Py101-004\\Chap1\\\\resource\\weather_info.txt')\n",
    "    print (w.read())\n",
    "\n",
    "get_data()"
   ]
  },
  {
   "cell_type": "markdown",
   "metadata": {},
   "source": [
    "#### 谷歌搜索，发现是因为读取txt文件里的中文字符时，遇见编码问题，将文件改成以utf8的方式编码后可运行。具体文档可见 [Processing Text Files in Python ](http://python-notes.curiousefficiency.org/en/latest/python3/text_file_processing.html#unicode-basics)"
   ]
  },
  {
   "cell_type": "code",
   "execution_count": 4,
   "metadata": {},
   "outputs": [
    {
     "name": "stdout",
     "output_type": "stream",
     "text": [
      "北京,晴\n"
     ]
    }
   ],
   "source": [
    "def get_data():\n",
    "    \"\"\"\n",
    "    获取本地的天气信息文档\n",
    "    \"\"\"\n",
    "    w = open(r\"C:\\Users\\Administrator\\Py101-004\\Chap1\\resource\\weather_info.txt\", encoding = 'utf8')\n",
    "    f = w.read()\n",
    "\n",
    "    f_list = f.split(\"\\n\")\n",
    "    print (f_list[0])\n",
    "\n",
    "    pass\n",
    "\n",
    "get_data()"
   ]
  },
  {
   "cell_type": "markdown",
   "metadata": {},
   "source": [
    "#### 还有一个疑问是，我在函数里写了docstrings，可是在运行函数时并未显示，难道是我的格式不对，还是这个只是为了阅读代码方便。后来发现是要去打印才行。输入print(get_data.__doc__)就可以了。查阅文档[python风格规范](http://zh-google-styleguide.readthedocs.io/en/latest/google-python-styleguide/python_style_rules/#comments)，还可以加入参数值和返回值。以下代码为测试用例。"
   ]
  },
  {
   "cell_type": "code",
   "execution_count": 7,
   "metadata": {},
   "outputs": [
    {
     "name": "stdout",
     "output_type": "stream",
     "text": [
      "北京,晴\n",
      "\n",
      "    获取本地的天气信息文档，读取并打印出第一行数据\n",
      "    \n",
      "    Args:\n",
      "        无\n",
      "    Return:\n",
      "        无\n",
      "    \n"
     ]
    }
   ],
   "source": [
    "def get_data():\n",
    "    \"\"\"\n",
    "    获取本地的天气信息文档，读取并打印出第一行数据\n",
    "    \n",
    "    Args:\n",
    "        无\n",
    "    Return:\n",
    "        无\n",
    "    \"\"\"\n",
    "    w = open(r\"C:\\Users\\Administrator\\Py101-004\\Chap1\\resource\\weather_info.txt\", encoding = 'utf8')\n",
    "    f = w.read()\n",
    "\n",
    "    f_list = f.split(\"\\n\")\n",
    "    print (f_list[0])\n",
    "\n",
    "    pass\n",
    "\n",
    "get_data()\n",
    "print (get_data.__doc__)"
   ]
  },
  {
   "cell_type": "markdown",
   "metadata": {},
   "source": [
    "#### 但是实际上这个函数应该是返回一个dict，然后根据用户输入的key（城市名字），返回相应的value(天气情况)"
   ]
  },
  {
   "cell_type": "code",
   "execution_count": 5,
   "metadata": {
    "scrolled": true
   },
   "outputs": [
    {
     "name": "stdout",
     "output_type": "stream",
     "text": [
      "北京 晴\n"
     ]
    },
    {
     "ename": "TypeError",
     "evalue": "unhashable type: 'list'",
     "output_type": "error",
     "traceback": [
      "\u001b[1;31m---------------------------------------------------------------------------\u001b[0m",
      "\u001b[1;31mTypeError\u001b[0m                                 Traceback (most recent call last)",
      "\u001b[1;32m<ipython-input-5-4113e8b43c2b>\u001b[0m in \u001b[0;36m<module>\u001b[1;34m()\u001b[0m\n\u001b[0;32m     35\u001b[0m     \u001b[0mprint\u001b[0m \u001b[1;33m(\u001b[0m\u001b[0mweather\u001b[0m\u001b[1;33m.\u001b[0m\u001b[0mget\u001b[0m\u001b[1;33m(\u001b[0m\u001b[1;34m\"石家庄\"\u001b[0m\u001b[1;33m,\u001b[0m \u001b[1;36m0\u001b[0m\u001b[1;33m)\u001b[0m\u001b[1;33m)\u001b[0m\u001b[1;33m\u001b[0m\u001b[0m\n\u001b[0;32m     36\u001b[0m \u001b[1;33m\u001b[0m\u001b[0m\n\u001b[1;32m---> 37\u001b[1;33m \u001b[0mget_data\u001b[0m\u001b[1;33m(\u001b[0m\u001b[1;33m)\u001b[0m\u001b[1;33m\u001b[0m\u001b[0m\n\u001b[0m",
      "\u001b[1;32m<ipython-input-5-4113e8b43c2b>\u001b[0m in \u001b[0;36mget_data\u001b[1;34m()\u001b[0m\n\u001b[0;32m     31\u001b[0m \u001b[1;33m\u001b[0m\u001b[0m\n\u001b[0;32m     32\u001b[0m         \u001b[1;31m# 定义可查询的字典\u001b[0m\u001b[1;33m\u001b[0m\u001b[1;33m\u001b[0m\u001b[0m\n\u001b[1;32m---> 33\u001b[1;33m         \u001b[0mweather\u001b[0m \u001b[1;33m=\u001b[0m \u001b[1;33m{\u001b[0m\u001b[0mcity\u001b[0m\u001b[1;33m:\u001b[0m \u001b[0mweather_info\u001b[0m\u001b[1;33m}\u001b[0m\u001b[1;33m\u001b[0m\u001b[0m\n\u001b[0m\u001b[0;32m     34\u001b[0m \u001b[1;33m\u001b[0m\u001b[0m\n\u001b[0;32m     35\u001b[0m     \u001b[0mprint\u001b[0m \u001b[1;33m(\u001b[0m\u001b[0mweather\u001b[0m\u001b[1;33m.\u001b[0m\u001b[0mget\u001b[0m\u001b[1;33m(\u001b[0m\u001b[1;34m\"石家庄\"\u001b[0m\u001b[1;33m,\u001b[0m \u001b[1;36m0\u001b[0m\u001b[1;33m)\u001b[0m\u001b[1;33m)\u001b[0m\u001b[1;33m\u001b[0m\u001b[0m\n",
      "\u001b[1;31mTypeError\u001b[0m: unhashable type: 'list'"
     ]
    }
   ],
   "source": [
    "import re\n",
    "\n",
    "def get_data():\n",
    "    '''\n",
    "    Get the local weather data.\n",
    "\n",
    "    return:\n",
    "        a dict contains the weather info\n",
    "    '''\n",
    "    # 读取本地路径下的txt文件\n",
    "    w = open(r\"C:\\Users\\Administrator\\Py101-004\\Chap1\\resource\\weather_info.txt\", encoding = 'utf8')\n",
    "    f = w.read()\n",
    "\n",
    "    # 利用re模块可以根据多个符号进行文本分割，并且打印测试\n",
    "    f_list = re.split(\",|\\n\", f)\n",
    "    print (f_list[0], f_list[1])\n",
    "\n",
    "    # 定义空列表，存放相应的城市和天气信息\n",
    "    city = []\n",
    "    weather_info = []\n",
    "    weather = {}\n",
    "\n",
    "    # 按照顺序将城市和天气信息存放到相应的数据类型中\n",
    "    for i in range (len(f_list)):\n",
    "\n",
    "        if (i == 0) or (i % 2 == 0):\n",
    "            city.append(f_list[i])\n",
    "        elif i % 2 != 0:\n",
    "            weather_info.append(f_list[i])\n",
    "        else:\n",
    "            continue\n",
    "\n",
    "        # 定义可查询的字典\n",
    "        weather = {city: weather_info}\n",
    "\n",
    "    print (weather.get(\"石家庄\", 0))\n",
    "    \n",
    "get_data()"
   ]
  },
  {
   "cell_type": "markdown",
   "metadata": {
    "collapsed": true
   },
   "source": [
    "#### 谷歌后发现list类型不能作为字典的key导入（hash），尝试改成其他的类型"
   ]
  },
  {
   "cell_type": "code",
   "execution_count": 6,
   "metadata": {},
   "outputs": [
    {
     "name": "stdout",
     "output_type": "stream",
     "text": [
      "北京 晴\n",
      "0\n"
     ]
    }
   ],
   "source": [
    "import re\n",
    "\n",
    "def get_data():\n",
    "    '''\n",
    "    Get the local weather data.\n",
    "\n",
    "    return:\n",
    "        a dict contains the weather info\n",
    "    '''\n",
    "    # 读取本地路径下的txt文件\n",
    "    w = open(r\"C:\\Users\\Administrator\\Py101-004\\Chap1\\resource\\weather_info.txt\", encoding = 'utf8')\n",
    "    f = w.read()\n",
    "\n",
    "    # 利用re模块可以根据多个符号进行文本分割，并且打印测试\n",
    "    f_list = re.split(\",|\\n\", f)\n",
    "    print (f_list[0], f_list[1])\n",
    "\n",
    "    # 定义空列表，存放相应的城市和天气信息\n",
    "    city = []\n",
    "    weather_info = []\n",
    "    weather = {}\n",
    "\n",
    "    # 按照顺序将城市和天气信息存放到相应的数据类型中\n",
    "    for i in range (len(f_list)):\n",
    "\n",
    "        if (i == 0) or (i % 2 == 0):\n",
    "            city.append(f_list[i])\n",
    "        else:\n",
    "            weather_info.append(f_list[i])\n",
    "\n",
    "    # print (city[0], weather_info[0])\n",
    "    # print (city[1], weather_info[1])\n",
    "    # print (city[2], weather_info[2])\n",
    "    # print (city[3], weather_info[3])\n",
    "\n",
    "    # 定义可查询的字典\n",
    "    for i in range (len(city)):\n",
    "        weather = {city[i]: weather_info}\n",
    "\n",
    "    print (weather.get(\"石家庄\", 0))\n",
    "\n",
    "get_data()"
   ]
  },
  {
   "cell_type": "markdown",
   "metadata": {},
   "source": [
    "#### 这种方式还是不行，没有真正导入。回到LPTHW，字典创建新元素的语法是 stuff[1] = \"WOW\"这种，而不是像赋予变量一样的直接赋值 "
   ]
  },
  {
   "cell_type": "code",
   "execution_count": null,
   "metadata": {
    "collapsed": true
   },
   "outputs": [],
   "source": [
    "    for i in range (len(city)-1):\n",
    "        c = city[i]\n",
    "        d = weather_info[i]\n",
    "        weather[c] = d\n",
    "    # print (len(city))\n",
    "    # print (len(weather_info))\n",
    "    print (weather.get(\"石家庄\", 0))"
   ]
  },
  {
   "cell_type": "markdown",
   "metadata": {},
   "source": [
    "#### 改成这种方式后成功运行。这里说明下为什么是len(city)-1,因为报错 IndexError: list index out of range 后来测试发现 city的长度是2559 而weather_info的长度是2558，在for循环里超出范围。 这是因为按照，和\\n来分割，文件里最后一行是空的"
   ]
  },
  {
   "cell_type": "markdown",
   "metadata": {},
   "source": [
    "## 编写主函数，提交V1.0版本 "
   ]
  },
  {
   "cell_type": "markdown",
   "metadata": {},
   "source": [
    "之后便是按照功能要求实现循环，主要有以下问题，探索了较长时间：\n",
    "\n",
    "1. 打印格式化字符串时，因为format 写成了 fotmate ,导致报错str没有该类属性，还以为又是数据类型不支持，网上搜索也没效果，最后发现是拼写错误\n",
    "2. 储存用户的数据，因为是在while循环里，到其中的else语句时没有定义，应该先在循环外面定义为空列表，这样为全局变量，这样在局部作用域如循环中赋值后，在外部调用仍保留数据。如同猜数字程序里返回AB值的判断\n",
    "3. 探索最长的时间应该是写实现功能的while循环语句。因为一开始的思维就是错的，定义了打印历史这个函数。实际上在功能演示时，打印历史后还出出现让用户继续输入指令的提示，那就表示还在这个循环里面，因此不可能跳出循环，所以必须在循环内部里面实现打印功能。"
   ]
  },
  {
   "cell_type": "code",
   "execution_count": null,
   "metadata": {
    "collapsed": true
   },
   "outputs": [],
   "source": [
    "# -*- coding:utf-8 -*-\n",
    "import re\n",
    "\n",
    "def get_data():\n",
    "    '''\n",
    "    Get the local weather data.\n",
    "\n",
    "    return:\n",
    "        a dict contains the weather info\n",
    "    '''\n",
    "    # 读取本地路径下的txt文件\n",
    "    w = open(r\"C:\\Users\\Administrator\\Py101-004\\Chap1\\resource\\weather_info.txt\", encoding = 'utf8')\n",
    "    f = w.read()\n",
    "\n",
    "    # 利用re模块可以根据多个符号进行文本分割，并且打印测试\n",
    "    f_list = re.split(\",|\\n\", f)\n",
    "\n",
    "    # 定义空列表，存放相应的城市和天气信息\n",
    "    city = []\n",
    "    weather_info = []\n",
    "    weather = {}\n",
    "\n",
    "    # 按照顺序将城市和天气信息存放到相应的数据类型中\n",
    "    for i in range (len(f_list)):\n",
    "\n",
    "        if (i == 0) or (i % 2 == 0):\n",
    "            city.append(f_list[i])\n",
    "        else:\n",
    "            weather_info.append(f_list[i])\n",
    "\n",
    "    # 建立可查询的字典\n",
    "    for i in range (len(city)-1):\n",
    "        weather[city[i]] = weather_info[i]\n",
    "\n",
    "    return weather\n",
    "\n",
    "def inquiry_weather():\n",
    "    \"\"\"\n",
    "    用户输入城市名，可以返回天气数据\n",
    "    \"\"\"\n",
    "    c = get_data()\n",
    "\n",
    "    guest_data = []\n",
    "    print_data = []\n",
    "    \n",
    "    # 与用户进行交互\n",
    "    while True:\n",
    "        a = str(input(\"请输入指令或您要查询的城市名:\"))\n",
    "\n",
    "        if a == \"help\":\n",
    "            help()\n",
    "        elif a == \"history\":\n",
    "            for i in range(len(guest_data)):\n",
    "                print (guest_data[i], print_data[i])\n",
    "        elif a == \"quit\":\n",
    "            break\n",
    "        else:\n",
    "            # 根据用户输入获取用户需要天气数据\n",
    "            b = c[a]\n",
    "            print (\"{0}的天气状况为：{1}\".format(a, b))\n",
    "\n",
    "            # 储存用户的查询数据\n",
    "            guest_data.append(a)\n",
    "            print_data.append(b)\n",
    "\n",
    "def help():\n",
    "    print (\"\"\"\n",
    "    输入城市名，查询该城市的天气；\n",
    "    输入 help，打印帮助文档；\n",
    "    输入 history，获取查询历史；\n",
    "    输入 quit，退出天气查询系统。\n",
    "    \"\"\")\n",
    "\n",
    "inquiry_weather()"
   ]
  },
  {
   "cell_type": "markdown",
   "metadata": {},
   "source": [
    "## 根据[教练反馈](https://github.com/AIHackers/Py101-004/issues/74)修改，提交V1.1版本"
   ]
  },
  {
   "cell_type": "markdown",
   "metadata": {},
   "source": [
    "### 代码风格规范问题"
   ]
  },
  {
   "cell_type": "markdown",
   "metadata": {},
   "source": [
    "1. 主函数写到main()函数里，而且在脚本最后调用(The main functionality should be in a main() function.)\n",
    "2. 使用(__name__)，方便测试设置，这样作为模块导入时可以不运行main()函数（In Python, pydoc as well as unit tests require modules to be importable. Your code should always check if __name__ == '__main__' before executing your main program so that the main program is not executed when the module is imported.)\n",
    "3. 参考资料[Google Python Style Guide](https://google.github.io/styleguide/pyguide.html?showone=Main#Main),有时间得好好看看"
   ]
  },
  {
   "cell_type": "code",
   "execution_count": null,
   "metadata": {
    "collapsed": true
   },
   "outputs": [],
   "source": [
    "if __name__ == '__main__':\n",
    "    main()"
   ]
  },
  {
   "cell_type": "markdown",
   "metadata": {},
   "source": [
    "### 文件读取问题"
   ]
  },
  {
   "cell_type": "markdown",
   "metadata": {},
   "source": [
    "1. 读取文件后没有关闭文件，这是为了防止程序出现异常后一直打开文件。可以用with..as..语句优雅地实现。这个语句可以执行调用的函数并且无论出现什么异常，都会在离开时执行exit。参考资料[ 理解Python中的with…as…语法](http://blog.csdn.net/zly9923218/article/details/53404849)；\n",
    "2. 读取文件路径时，写相对路径会更加灵活，运用os.path模块来实现。熟悉3个函数的用法：os.getced() os.path.dirname(path) os.path.join()。\n",
    "3. 读取文件有同学用readline()循环读取再分割，可能没有re模块来的方便"
   ]
  },
  {
   "cell_type": "code",
   "execution_count": null,
   "metadata": {
    "collapsed": true
   },
   "outputs": [],
   "source": [
    "    root_dir = os.path.dirname(os.getcwd())\n",
    "    rel_dir = os.path.join(root_dir, 'resource', 'weather_info.txt')\n",
    "    with open(rel_dir, 'r', encoding = 'utf8') as w:\n",
    "        f = w.read()"
   ]
  },
  {
   "cell_type": "markdown",
   "metadata": {},
   "source": [
    "1. 用re的方式不一定好，参考[沥川的代码](https://github.com/Hugo1030/Py101-004/blob/master/Chap1/project/weather_info.py)里面用readline()，再循环读入到字典中，要快捷很多 \n",
    "2. 看沥川的代码，没有把读取文件封装成函数，这样的会需要把本地数据读取下来存到字典里\n",
    "3. 实际上只有用户输入数据后才需要查阅，但是也意味着每一次用户查阅都要重复打开文本，造成效率低下\n",
    "4. [scoot教练](https://github.com/AIHackers/Py101-004/issues/42#issuecomment-325548784)对Vwan的问题解答提到对于python而言内存优于速度\n",
    "5. 判断用户输入是否为正确输入时，必须先把获取到字典再去调用查询。先要在main（）的开头去运行一遍，所以还不如不封装成函数"
   ]
  },
  {
   "cell_type": "markdown",
   "metadata": {},
   "source": [
    "#### 遇到readline()问题"
   ]
  },
  {
   "cell_type": "code",
   "execution_count": 2,
   "metadata": {},
   "outputs": [
    {
     "name": "stdout",
     "output_type": "stream",
     "text": [
      "北\n",
      "京\n",
      ",\n",
      "晴\n",
      "\n",
      "\n"
     ]
    }
   ],
   "source": [
    "# -*- coding:utf-8 -*-\n",
    "import os\n",
    "\n",
    "weather_dic = {}\n",
    "history_dic = {}\n",
    "\n",
    "# 读取本地文件，分割字符，将内容存入字典\n",
    "root_dir = os.path.dirname(os.getcwd())\n",
    "rel_dir = os.path.join(root_dir, 'resource', 'weather_info.txt')\n",
    "with open(rel_dir, 'r', encoding = 'utf8') as w:\n",
    "    for info in w.readline():\n",
    "        print(info)"
   ]
  },
  {
   "cell_type": "markdown",
   "metadata": {},
   "source": [
    "1. readline()是只读取文件的第一行，因此遍历的是第一行\n",
    "2. 改成readlines(),则是正确的\n",
    "3. readlines() 方法用于读取所有行(直到结束符 EOF)并返回列表，该列表可以由 Python 的 for... in ... 结构进行处理。[参考](http://www.runoob.com/python/file-readlines.html)\n",
    "4. 但是在运行中会包含末尾的换行符，于是用strip()来去除每行头尾空白"
   ]
  },
  {
   "cell_type": "code",
   "execution_count": null,
   "metadata": {
    "collapsed": true
   },
   "outputs": [],
   "source": [
    "import os\n",
    "\n",
    "weather_dic = {}\n",
    "history_dic = {}\n",
    "\n",
    "# 读取本地文件，分割字符，将内容存入字典\n",
    "root_dir = os.path.dirname(os.getcwd())\n",
    "rel_dir = os.path.join(root_dir, 'resource', 'weather_info.txt')\n",
    "with open(rel_dir, 'r', encoding = 'utf8') as w:\n",
    "    for info in w.readlines():\n",
    "        info = info.strip()  # 去掉尾部的换行符号 \n",
    "        city, weather = info.split(\",\")\n",
    "        weather_dic[city] = weather"
   ]
  },
  {
   "cell_type": "markdown",
   "metadata": {},
   "source": [
    "### 命名覆盖问题"
   ]
  },
  {
   "cell_type": "markdown",
   "metadata": {},
   "source": [
    "1. 主要是不要用python的内置函数去命名。把help()改成了help_doc()\n",
    "2. 定义变量名称最好不要用字母，否则会看不懂，并且注意有联系的变量命名最好有关联\n",
    "3. 全局变量和局部变量的定义需要注意"
   ]
  },
  {
   "cell_type": "markdown",
   "metadata": {},
   "source": [
    "### 列表和字典操作前都需要定义，而变量和元组不需要"
   ]
  },
  {
   "cell_type": "code",
   "execution_count": null,
   "metadata": {
    "collapsed": true
   },
   "outputs": [],
   "source": [
    "    weather_data = get_data()\n",
    "    user_data = []\n",
    "    print_data = []"
   ]
  },
  {
   "cell_type": "markdown",
   "metadata": {},
   "source": [
    "## 根据[ch1任务难点](https://github.com/AIHackers/Py101-004/issues/42#issuecomment-325548784)提示，探索csv的使用，编写V1.2版本"
   ]
  },
  {
   "cell_type": "markdown",
   "metadata": {},
   "source": [
    "1. 使用open打开csv文件，是否还需要关闭，是否可以继续使用with...as..语句\n",
    "2. 使用csv.read()函数返回read对象\n",
    "3. 将read对象转换成list，便于访问\n",
    "4. 将list转换成字典"
   ]
  },
  {
   "cell_type": "code",
   "execution_count": null,
   "metadata": {
    "collapsed": true
   },
   "outputs": [],
   "source": [
    "def get_data():\n",
    "    root_dir = os.path.dirname(os.getcwd())\n",
    "    rel_dir = os.path.join(root_dir, 'resource', 'weather_info.csv')\n",
    "    w_file = open(rel_dir, 'r', encoding = 'utf8')\n",
    "    w_reader = csv.reader(w_file)\n",
    "    w_data = list(w_reader)\n",
    "    weather = {}\n",
    "\n",
    "    # 两种方式都可以将list写入字典中，第二种更简洁\n",
    "    # for i in range (len(w_data)):\n",
    "    #     weather[w_data[i][0]] = w_data[i][1]\n",
    "    for city, weather_info in w_data:\n",
    "        weather[city] = weather_info\n",
    "    return weather\n",
    "\n",
    "get_data()"
   ]
  },
  {
   "cell_type": "markdown",
   "metadata": {},
   "source": [
    "代码更加简洁：\n",
    "1. 储存用户的两个数据，城市和天气，在list里面用括号括起来，储存元祖数据，而非单一数据\n",
    "2. 打印更加简洁，对于列表习惯用for语句来循环遍历打印"
   ]
  },
  {
   "cell_type": "code",
   "execution_count": null,
   "metadata": {
    "collapsed": true
   },
   "outputs": [],
   "source": [
    "while True:\n",
    "        user_input = str(input(\"请输入指令或您要查询的城市名:\"))\n",
    "        if user_input == \"help\":\n",
    "            help_doc()\n",
    "        elif user_input == \"history\":\n",
    "            for i in user_data:\n",
    "                print(i[0], i[1])\n",
    "        elif user_input == \"quit\":\n",
    "            exit(0)\n",
    "        else:\n",
    "            c = get_data(user_input)\n",
    "            user_data.append([user_input, c])"
   ]
  }
 ],
 "metadata": {
  "kernelspec": {
   "display_name": "Python 3",
   "language": "python",
   "name": "python3"
  },
  "language_info": {
   "codemirror_mode": {
    "name": "ipython",
    "version": 3
   },
   "file_extension": ".py",
   "mimetype": "text/x-python",
   "name": "python",
   "nbconvert_exporter": "python",
   "pygments_lexer": "ipython3",
   "version": "3.6.1"
  }
 },
 "nbformat": 4,
 "nbformat_minor": 2
}

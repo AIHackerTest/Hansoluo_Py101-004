{
 "cells": [
  {
   "cell_type": "markdown",
   "metadata": {},
   "source": [
    "## ch2 个人教程"
   ]
  },
  {
   "cell_type": "markdown",
   "metadata": {},
   "source": [
    "### API"
   ]
  },
  {
   "cell_type": "markdown",
   "metadata": {},
   "source": [
    "#### 什么是API？ "
   ]
  },
  {
   "cell_type": "markdown",
   "metadata": {},
   "source": [
    " API的英文全称是Application Programming Interface，应用软件的交互接口。卡片上说就像插座，便于获取公网的参数。"
   ]
  },
  {
   "cell_type": "markdown",
   "metadata": {},
   "source": [
    "这些知识点在卡包上都有，先不管那么多，因为没有时间了，先把函数写出来。先会再学或者做中学。"
   ]
  },
  {
   "cell_type": "markdown",
   "metadata": {},
   "source": [
    "## 编写主函数V1.0"
   ]
  },
  {
   "cell_type": "markdown",
   "metadata": {},
   "source": [
    "### 获取API数据"
   ]
  },
  {
   "cell_type": "markdown",
   "metadata": {},
   "source": [
    "1. 选定API为[心知天气](https://www.seniverse.com/)，注册为用户后，可获取免费的天气数据\n",
    "2. 网站上有提供相应对码，利用Python的request模块来调用，具体代码为[code](https://github.com/seniverse/seniverse-api-demos/blob/master/python/demo-requests.py)\n",
    "3. 单独测试这块的代码，发现没有安装request模块\n",
    "4. 直接在cmd里运行代码 python -m pip install requests\n",
    "5. 显示如下，安装成功。Installing collected packages: urllib3, chardet, certifi, idna, requests .Successfully installed certifi-2017.7.27.1 chardet-3.0.4 idna-2.6 requests-2.18.4 urllib3-1.22\n",
    "6. 利用网站中给出的代码去运行，获得了北京城的实时天气数据。发送get请求：result = requests.get(url, params, timeout)\n",
    "7. 问题是我现在并没有获得所有的城市数据，只是北京的。我如何将城市的数据都获取呢？将location定义为用户的输入数据，然后实时的向网站请求就行了\n",
    "8. 获取的json数据如下：{\"results\":[{\"location\":{\"id\":\"WX4FBXXFKE4F\",\"name\":\"北京\",\"country\":\"CN\",\"path\":\"北京,北京,中国\",\"timezone\":\"Asia/Shanghai\",\"timezone_offset\":\"+08:00\"},\"now\":{\"text\":\"小雨\",\"code\":\"13\",\"temperature\":\"17\"},\"last_update\":\"2017-08-27T23:35:00+08:00\"}]}\n",
    "10. 如何对json数据处理？用json.load()转化成python的字典数据类型\n",
    "11. 问题是如何对嵌套的字典数据类型进行处理，而且能按照顺序读取呢？"
   ]
  },
  {
   "cell_type": "code",
   "execution_count": 3,
   "metadata": {},
   "outputs": [
    {
     "data": {
      "text/plain": [
       "{'results': [{'last_update': '2017-08-28T00:50:00+08:00',\n",
       "   'location': {'country': 'CN',\n",
       "    'id': 'WX4FBXXFKE4F',\n",
       "    'name': '北京',\n",
       "    'path': '北京,北京,中国',\n",
       "    'timezone': 'Asia/Shanghai',\n",
       "    'timezone_offset': '+08:00'},\n",
       "   'now': {'code': '4', 'temperature': '17', 'text': '多云'}}]}"
      ]
     },
     "execution_count": 3,
     "metadata": {},
     "output_type": "execute_result"
    }
   ],
   "source": [
    "{'results':  # 这是一个字典的key值\n",
    "[            # 它的value是一个list\n",
    "        {    # list里面只有一个数据，是字典类型  list[0]\n",
    "\n",
    "                 'location': {'id': 'WX4FBXXFKE4F', 'name': '北京', 'country': 'CN', 'path': '北京,北京,中国', 'timezone': 'Asia/Shanghai', 'timezone_offset':\n",
    "                 '+08:00'},\n",
    "\n",
    "                 'now': {'text': '多云', 'code': '4', 'temperature': '17'},\n",
    "\n",
    "                 'last_update': '2017-08-28T00:50:00+08:00'\n",
    "        }\n",
    "    ]\n",
    "}"
   ]
  },
  {
   "cell_type": "markdown",
   "metadata": {},
   "source": [
    "## 代码简化，编写V1.1版本"
   ]
  },
  {
   "cell_type": "markdown",
   "metadata": {},
   "source": [
    "### 代码格式问题 "
   ]
  },
  {
   "cell_type": "markdown",
   "metadata": {},
   "source": [
    "1. [作业批改地址](https://github.com/Hansoluo/Py101-004/issues/1)提到的代码格式问题，结合[Google Python Style Guide](https://google.github.io/styleguide/pyguide.html?showone=Displaying_Hidden_Details_in_this_Guide#Displaying_Hidden_Details_in_this_Guide)文档找出正确的写法规则\n",
    "2. 作业里有两处都是单行字符长度过长。这在指南文档中\"Line length\"有明确提到：Maximum line length is 80 characters,并给出了规范的写法。其实在ATOM里设置了一条线来限制单行代码字符长度。\n",
    "3. 字符过长时：Do not use backslash line continuation.\n",
    "4. 字符过长时，括号里的内容可以多写几行，但是要注意对齐\n",
    "5. 函数声明：Never use tabs or mix tabs and spaces. In cases of implied line continuation, you should align wrapped elements either vertically, as per the examples in the line length section; or using a hanging indent of 4 spaces, in which case there should be no argument on the first line.这里提到除非是要对齐，否则不要混合使用TAB和空格，保持缩进一致。\n",
    "6. Imports should be on separate lines.导入模块分开写，不要写到一起。\n",
    "7. 我注意到教练给出的正确代码里，print（）之间没有空格，是紧挨在一起写的"
   ]
  },
  {
   "cell_type": "markdown",
   "metadata": {},
   "source": [
    "### 复杂度问题 "
   ]
  },
  {
   "cell_type": "markdown",
   "metadata": {},
   "source": [
    "#### 教练给出的意见是：函数 main Cyclomatic complexity(循环复杂度、条件复杂度)为 (6)，过高、建议缩减 "
   ]
  },
  {
   "cell_type": "markdown",
   "metadata": {},
   "source": [
    "### 进阶任务"
   ]
  },
  {
   "cell_type": "code",
   "execution_count": 1,
   "metadata": {},
   "outputs": [
    {
     "name": "stdout",
     "output_type": "stream",
     "text": [
      "0\n",
      "1\n",
      "2\n"
     ]
    }
   ],
   "source": [
    "for i in range(3):\n",
    "    print(i)"
   ]
  }
 ],
 "metadata": {
  "kernelspec": {
   "display_name": "Python 3",
   "language": "python",
   "name": "python3"
  },
  "language_info": {
   "codemirror_mode": {
    "name": "ipython",
    "version": 3
   },
   "file_extension": ".py",
   "mimetype": "text/x-python",
   "name": "python",
   "nbconvert_exporter": "python",
   "pygments_lexer": "ipython3",
   "version": "3.6.1"
  }
 },
 "nbformat": 4,
 "nbformat_minor": 2
}

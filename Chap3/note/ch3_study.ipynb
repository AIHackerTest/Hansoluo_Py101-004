{
 "cells": [
  {
   "cell_type": "markdown",
   "metadata": {},
   "source": [
    "# 开发一个运行在Web界面，部署在本地的天气查询程序 "
   ]
  },
  {
   "cell_type": "markdown",
   "metadata": {},
   "source": [
    "## 使用 Flask 快速完成一个 MVP"
   ]
  },
  {
   "cell_type": "code",
   "execution_count": null,
   "metadata": {},
   "outputs": [
    {
     "name": "stderr",
     "output_type": "stream",
     "text": [
      " * Running on http://127.0.0.1:5000/ (Press CTRL+C to quit)\n",
      "127.0.0.1 - - [31/Aug/2017 01:32:50] \"GET / HTTP/1.1\" 200 -\n",
      "127.0.0.1 - - [31/Aug/2017 01:32:51] \"GET /favicon.ico HTTP/1.1\" 404 -\n",
      "127.0.0.1 - - [31/Aug/2017 01:49:59] \"GET / HTTP/1.1\" 200 -\n",
      "127.0.0.1 - - [31/Aug/2017 20:23:50] \"GET / HTTP/1.1\" 200 -\n"
     ]
    }
   ],
   "source": [
    "from flask import Flask\n",
    "app = Flask(__name__)\n",
    "@app.route(\"/\")\n",
    "def hello():\n",
    "    return \"Hello World!\"\n",
    "\n",
    "if __name__ == '__main__':\n",
    "    app.run()"
   ]
  },
  {
   "cell_type": "markdown",
   "metadata": {},
   "source": [
    "## Web开发基本知识 "
   ]
  },
  {
   "cell_type": "markdown",
   "metadata": {},
   "source": [
    "### 什么是web开发"
   ]
  },
  {
   "cell_type": "markdown",
   "metadata": {},
   "source": [
    "### 什么是web框架，它可以干嘛？"
   ]
  },
  {
   "cell_type": "markdown",
   "metadata": {},
   "source": [
    "1. 参考文章[what is a web framework](https://jeffknupp.com/blog/2014/03/03/what-is-a-web-framework/)\n",
    "2. 所有的网页都是以html的格式提交给浏览器\n",
    "3. 负责把网页提给浏览器的叫做web server\n",
    "4. HTTP\n",
    "5. HTTP methods: GET POST"
   ]
  },
  {
   "cell_type": "markdown",
   "metadata": {},
   "source": [
    "### 基于python的web框架有哪些？"
   ]
  },
  {
   "cell_type": "markdown",
   "metadata": {},
   "source": [
    "1. Django\n",
    "2. Flask"
   ]
  },
  {
   "cell_type": "markdown",
   "metadata": {},
   "source": [
    "### 什么是web开发"
   ]
  },
  {
   "cell_type": "markdown",
   "metadata": {},
   "source": [
    "## Html基本知识 "
   ]
  },
  {
   "cell_type": "markdown",
   "metadata": {},
   "source": [
    "### 一个完整的 HTML 页面至少包含哪些元素？"
   ]
  },
  {
   "cell_type": "markdown",
   "metadata": {},
   "source": [
    "### 可以使用什么工具编写 HTML 页面？"
   ]
  },
  {
   "cell_type": "markdown",
   "metadata": {},
   "source": [
    "### 不同的元素分别可以实现什么样的功能？"
   ]
  },
  {
   "cell_type": "markdown",
   "metadata": {},
   "source": [
    "1. 按照Flask写了MVP程序，结果无论怎么修改，一直是helloworld。无论怎么改，都是这样\n",
    "2. 换了一个新的接口，终于好了，so gooooooood，而且可以实时更新\n",
    "3. 在atom中编写html文件，输入html按下enter键，就可以自动出现html编写模板"
   ]
  },
  {
   "cell_type": "markdown",
   "metadata": {},
   "source": []
  },
  {
   "cell_type": "markdown",
   "metadata": {},
   "source": [
    "### 学习使用flask，参考文档[python flask](https://pythonspot.com/en/category/pro/web/flask/)"
   ]
  },
  {
   "cell_type": "code",
   "execution_count": null,
   "metadata": {
    "collapsed": true
   },
   "outputs": [],
   "source": [
    "@app.route(\"/hello/<string:name>/\")\n",
    "def hello(name):\n",
    "    return render_template(\n",
    "        'test.html',name=name)"
   ]
  },
  {
   "cell_type": "markdown",
   "metadata": {},
   "source": [
    "1. 上面一段代码可以实现，从ur里面写的关键参数传入模板的变量，关键是name=name，传入到html文件中用{{name}},这样可以显示在html文件中\n",
    "2. 路由url、函数变量、和html中的变量要保持一致"
   ]
  },
  {
   "cell_type": "code",
   "execution_count": null,
   "metadata": {
    "collapsed": true
   },
   "outputs": [],
   "source": [
    "    return render_template(\n",
    "        'test.html',**locals())"
   ]
  },
  {
   "cell_type": "markdown",
   "metadata": {},
   "source": [
    "1. 上面一段代码可以实现，将函数定义的本地变量全部传递到html文件\n",
    "2. 用这种方式，就可以不用在函数定义时就传入参数了，直接在函数内部定义变量，然后传递，比上面一种方式更方便\n",
    "3. 上面一种方式主要用于路由，获取url"
   ]
  },
  {
   "cell_type": "code",
   "execution_count": null,
   "metadata": {
    "collapsed": true
   },
   "outputs": [],
   "source": [
    "@app.route(\"/user/\")\n",
    "def hello():\n",
    " \n",
    "    users = [ \"Frank\", \"Steve\", \"Alice\", \"Bruce\" ]\n",
    "    return render_template(\n",
    "        'user.html', **locals())"
   ]
  },
  {
   "cell_type": "markdown",
   "metadata": {},
   "source": [
    "1. 可以定义列表，然后传输到html文件中\n",
    "2. 使用Jinja2的模板可以使用for语句来循环读取列表中的参数\n",
    "3. 下面第一个是官方给出的文档，第二个是案例，区别在于一个加了url，不知道第二个中的</a>是不是多余\n",
    "4. 第三个是if语句\n",
    "5. 第四个是循环字典"
   ]
  },
  {
   "cell_type": "code",
   "execution_count": null,
   "metadata": {
    "collapsed": true
   },
   "outputs": [],
   "source": [
    "<title>{% block title %}{% endblock %}</title>\n",
    "<ul>\n",
    "{% for user in users %}\n",
    "  <li><a href=\"{{ user.url }}\">{{ user.username }}</a></li>\n",
    "{% endfor %}\n",
    "</ul>"
   ]
  },
  {
   "cell_type": "code",
   "execution_count": null,
   "metadata": {
    "collapsed": true
   },
   "outputs": [],
   "source": [
    "<title>{% block title %}{% endblock %}</title>\n",
    "<ul>\n",
    "{% for user in users %}  \n",
    "  <li>{{ user }}</a></li>\n",
    "{% endfor %}\n",
    "</ul>"
   ]
  },
  {
   "cell_type": "code",
   "execution_count": null,
   "metadata": {
    "collapsed": true
   },
   "outputs": [],
   "source": [
    "<html>\n",
    "  <head>\n",
    "    {% if title %}\n",
    "    <title>{{ title }} - microblog</title>\n",
    "    {% else %}\n",
    "    <title>Welcome to microblog</title>\n",
    "    {% endif %}\n",
    "  </head>\n",
    "  <body>\n",
    "    <h1>Hi, {{ user.nickname }}!</h1>\n",
    "    {% for post in posts %}\n",
    "    <div><p>{{ post.author.nickname }} says: <b>{{ post.body }}</b></p></div>\n",
    "    {% endfor %}\n",
    "  </body>\n",
    "</html>"
   ]
  },
  {
   "cell_type": "code",
   "execution_count": null,
   "metadata": {
    "collapsed": true
   },
   "outputs": [],
   "source": [
    "<dl>\n",
    "    {% for key, value in _dict.iter() %}\n",
    "        <dt>{{key}}</dt>\n",
    "        <dd>{{value}}</dd>\n",
    "    {% endfor %}\n",
    "</dl>"
   ]
  },
  {
   "cell_type": "markdown",
   "metadata": {},
   "source": [
    "### jinja中的符号\n",
    "1. {%....%} 语句（for循环语句和条件判断语句）\n",
    "2. {{.. .}} 声明（可以写入各种变量在网页中显示，类似于打印功能）\n",
    "3. {#....#} 注释（网页中不显示）\n",
    "\n",
    "4. #....## line statments "
   ]
  },
  {
   "cell_type": "code",
   "execution_count": null,
   "metadata": {
    "collapsed": true
   },
   "outputs": [],
   "source": [
    "# 基于用户的登录状态来判断。登录成功返回hello主页面,否则一直在登录界面\n",
    "@app.route('/')\n",
    "def home():\n",
    "    if not session.get('logged_in'):\n",
    "        return render_template('login.html')\n",
    "    else:\n",
    "        return \"Hello Boss!\"\n",
    "\n",
    "# 验证用户的登录信息\n",
    "# 用POST方法获取用户填写的表单（登录数据）\n",
    "@app.route('/login', methods=['POST'])\n",
    "def do_admin_login():\n",
    "    # 如果用户输入正确的用户名和密码，则将用户登录状态标记为True,否则闪现一条密码错误\n",
    "    if request.form['password'] == 'password' and request.form['username'] == 'admin':\n",
    "        session['logged_in'] = True\n",
    "    else:\n",
    "        flash('wrong password!')\n",
    "    # 返回调用home()函数\n",
    "    return home() \n",
    "\n",
    "if __name__ == \"__main__\":\n",
    "    # 生成一条随机密钥\n",
    "    app.secret_key = os.urandom(12)\n",
    "    app.run(debug=True)"
   ]
  },
  {
   "cell_type": "markdown",
   "metadata": {},
   "source": [
    "1. 以上代码为登录页面，用户输入用户名和密码后，可以进入指定页面（Hello Boss）\n",
    "2. session（会话）类似字典，但是不用初始化，可以直接添加元素session['logged_in'] = True，也可以通过get函数来获取指定key的value\n",
    "3. 具体解释看官方文档[会话](http://docs.jinkan.org/docs/flask/api.html#flask.session)\n",
    "4. Cookie是存储在客户端的记录访问者状态的数据，用于记录用户登录状态的session大多是基于cookie实现的。\n",
    "   Flask的实现方法是使用一个签名的cookie，这样用户可以查看会话的内容，但是不能修改它，除非用户知道密钥。\n",
    "5. 在这里利用os.urandom来生成随机的密钥。要使用会话，必须设置密钥\n",
    "6. 对于新会话来说，值是True，否则为False\n",
    "7. flash() 可以闪现一条消息"
   ]
  },
  {
   "cell_type": "code",
   "execution_count": null,
   "metadata": {
    "collapsed": true
   },
   "outputs": [],
   "source": [
    "{% block body %}\n",
    "{% if session['logged_in'] %}\n",
    "<p>You're logged in already!</p>\n",
    "{% else %}\n",
    "<form action=\"/login\" method=\"POST\">\n",
    "  <input type=\"username\" name=\"username\" placeholder=\"Username\">\n",
    "  <input type=\"password\" name=\"password\" placeholder=\"Password\">\n",
    "  <input type=\"submit\" value=\"Log in\">\n",
    "</form>\n",
    "{% endif %}\n",
    "{% endblock %}"
   ]
  },
  {
   "cell_type": "markdown",
   "metadata": {},
   "source": [
    "1. 以上为login.html，内容主要是表单，变量名为name，在python代码里获取用户输入参数用request.form['name']\n",
    "2. placeholder为框框里预先填写的参数,可以提醒用户输入\n",
    "3. input见[表单输入类型](http://www.w3school.com.cn/html/html_form_input_types.asp)，其中input type=\"password\"定义密码字段，password 字段中的字符会被做掩码处理"
   ]
  },
  {
   "cell_type": "markdown",
   "metadata": {},
   "source": [
    "## 问题1 使用args.get()方式获取按钮发送信息错误"
   ]
  },
  {
   "cell_type": "code",
   "execution_count": null,
   "metadata": {
    "collapsed": true
   },
   "outputs": [],
   "source": [
    "@app.route('/query', methods=['POST'])\n",
    "def weather():\n",
    "    if request.args.get(\"help\") == \"帮助\":\n",
    "        return \"hello\""
   ]
  },
  {
   "cell_type": "markdown",
   "metadata": {},
   "source": [
    "这行代码一直返回错误:ValueError: View function did not return a response"
   ]
  },
  {
   "cell_type": "markdown",
   "metadata": {},
   "source": [
    "## 问题2 使用模板继承毫无反应，不使用可以实现 "
   ]
  },
  {
   "cell_type": "markdown",
   "metadata": {},
   "source": [
    "问题已解决。\n",
    "1. 直接原因是，在子模板里面加了继承的代码，但是在基础模板里面没有加入。官方文档的描述是：“子”模板的任务是用内容基础模板填充空的块。两个要相互呼应。\n",
    "2. 深层次原因是因为没有好好阅读官方文档，自以为只要在子模板里加入进行，而基础模板不需要\n",
    "3. 感悟是阅读官方文档是一个反复的过程。每次看的理解程度都不一样。第一次看，需要大概了解自己需要哪些东西，只是个了解；在后面自己拆解代码，出现问题，反复调试代码的过程中，带着问题去搜索官方文档中的关键字，然后逐字逐行的理解文档，解决问题。"
   ]
  },
  {
   "cell_type": "code",
   "execution_count": null,
   "metadata": {
    "collapsed": true
   },
   "outputs": [],
   "source": [
    "# 基础模板里面空白的块\n",
    "    <div id=\"content\">{% block content %}{% endblock %}</div>\n",
    "# 字模板里填充上的内容\n",
    "{% block content %}\n",
    "  <h1>Index</h1>\n",
    "  <p class=\"important\">\n",
    "    Welcome on my awesome homepage.\n",
    "{% endblock %}"
   ]
  },
  {
   "cell_type": "markdown",
   "metadata": {},
   "source": [
    "## 问题3 运行以下代码，if可以，elif返回400Bad request "
   ]
  },
  {
   "cell_type": "code",
   "execution_count": null,
   "metadata": {
    "collapsed": true
   },
   "outputs": [],
   "source": [
    "@app.route('/query', methods = ['POST'])\n",
    "def weather():\n",
    "    if request.form['history'] == \"历史\":\n",
    "        return \"hello\"\n",
    "    elif request.form['help'] == \"帮助\":\n",
    "        return \"hello\"\n",
    "    else:\n",
    "        pass"
   ]
  },
  {
   "cell_type": "markdown",
   "metadata": {},
   "source": [
    "来自[官方文档](http://docs.jinkan.org/docs/flask/quickstart.html)：\n",
    "当访问 form 属性中的不存在的键会发生什么？会抛出一个特殊的 KeyError 异常。你可以像捕获标准的 KeyError 一样来捕获它。 如果你不这么做，它会显示一个 HTTP 400 Bad Request 错误页面。所以，多数情况下你并不需要干预这个行为。\n",
    "\n",
    "你可以通过 args 属性来访问 URL 中提交的参数 （ ?key=value ）:\n",
    "searchword = request.args.get('q', '')\n",
    "我们推荐用 get 来访问 URL 参数或捕获 KeyError ，因为用户可能会修改 URL，向他们展现一个 400 bad request 页面会影响用户体验。"
   ]
  },
  {
   "cell_type": "markdown",
   "metadata": {},
   "source": [
    "下面的三段代码运行是没问题的。\n",
    "1. 第一段代码使用get的方式获取\n",
    "2. 第二段代码在html文件中也一样，否则会报方法错误\n",
    "3. 第三段换成了模板，因为不传入参数，此时文本输出，所以也没问题"
   ]
  },
  {
   "cell_type": "code",
   "execution_count": null,
   "metadata": {
    "collapsed": true
   },
   "outputs": [],
   "source": [
    "@app.route('/query', methods = ['GET'])\n",
    "def weather():\n",
    "    if request.args.get('history') == \"历史\":\n",
    "        return \"hello\"\n",
    "    elif request.args.get('help') == \"帮助\":\n",
    "        return \"hello\"\n",
    "    else:\n",
    "        pass"
   ]
  },
  {
   "cell_type": "code",
   "execution_count": null,
   "metadata": {
    "collapsed": true
   },
   "outputs": [],
   "source": [
    "<form action=\"/query\" method=\"get\">\n",
    "          <h4 align = \"center\"> 城市:<input type=\"text\" name=\"city\">\n",
    "            <input type=\"submit\" name=\"query\" value=\"查询\">\n",
    "            <input type=\"submit\" name=\"history\" value=\"历史\">\n",
    "            <input type=\"submit\" name=\"help\" value=\"帮助\"></h4>\n",
    "        </form>"
   ]
  },
  {
   "cell_type": "code",
   "execution_count": null,
   "metadata": {
    "collapsed": true
   },
   "outputs": [],
   "source": [
    "if request.args.get('history') == \"历史\":\n",
    "        return \"hello\"\n",
    "        # render_template('history.html')\n",
    "    elif request.args.get('help') == \"帮助\":\n",
    "        return render_template('help.html')\n",
    "        # return render_template('help.html')\n",
    "    else:\n",
    "        pass"
   ]
  },
  {
   "cell_type": "markdown",
   "metadata": {},
   "source": [
    "GET\n",
    "浏览器告知服务器：只 获取 页面上的信息并发给我。这是最常用的方法。\n",
    "POST\n",
    "浏览器告诉服务器：想在 URL 上 发布 新信息。并且，服务器必须确保 数据已存储且仅存储一次。这是 HTML 表单通常发送数据到服务器的方法。\n",
    "\n",
    "上面的代码并没有返回数据给页面，所以运行没有问题。\n",
    "而对于这个项目来说，点击历史和帮助都必须返回数据给URL，所以必须用post方式"
   ]
  },
  {
   "cell_type": "code",
   "execution_count": null,
   "metadata": {
    "collapsed": true
   },
   "outputs": [],
   "source": [
    "@app.route('/login', methods=['GET', 'POST'])\n",
    "def login():\n",
    "    if request.method == 'POST':\n",
    "        session['username'] = request.form['username']\n",
    "        return redirect(url_for('index'))\n",
    "    return '''\n",
    "        <form action=\"\" method=\"post\">\n",
    "            <p><input type=text name=username>\n",
    "            <p><input type=submit value=Login>\n",
    "        </form>\n",
    "    '''"
   ]
  },
  {
   "cell_type": "markdown",
   "metadata": {},
   "source": [
    "1. 以上是官方文档里的代码，注意函数里的是\"POST\"大写，而表单里是'post'小写\n",
    "2. 函数里的是methods，而表单里是method"
   ]
  },
  {
   "cell_type": "markdown",
   "metadata": {},
   "source": [
    "报错 ValueError: View function did not return a response，检查后发现是没有return了"
   ]
  },
  {
   "cell_type": "markdown",
   "metadata": {},
   "source": [
    "## 问题4：为什么history使用**locals()传入参数没反应，使用user_date=user_date就行？"
   ]
  },
  {
   "cell_type": "markdown",
   "metadata": {},
   "source": [
    "## 问题5：为什么user_date列表需要定义为全局变量，而weather_info则不用？ "
   ]
  },
  {
   "cell_type": "markdown",
   "metadata": {},
   "source": [
    "### 问题列表：\n",
    "1. HTTP的两种方式GET和POST在使用上具有什么区别？\n",
    "2. flask两种获取表单的方式有什么区别？ request.form()和request.args.get()\n",
    "3. 传入参数到html文件的两种方式有什么区别？**locals（）和 name=name\n",
    "4. 继承模板的问题？"
   ]
  }
 ],
 "metadata": {
  "kernelspec": {
   "display_name": "Python 3",
   "language": "python",
   "name": "python3"
  },
  "language_info": {
   "codemirror_mode": {
    "name": "ipython",
    "version": 3
   },
   "file_extension": ".py",
   "mimetype": "text/x-python",
   "name": "python",
   "nbconvert_exporter": "python",
   "pygments_lexer": "ipython3",
   "version": "3.6.1"
  }
 },
 "nbformat": 4,
 "nbformat_minor": 2
}
